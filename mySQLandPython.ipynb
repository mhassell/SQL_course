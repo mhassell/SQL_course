{
 "cells": [
  {
   "cell_type": "code",
   "execution_count": 2,
   "metadata": {
    "collapsed": false,
    "deletable": true,
    "editable": true
   },
   "outputs": [],
   "source": [
    "# https://www.youtube.com/watch?v=i6PVshqAUGw\n",
    "# sentdex is my hero\n",
    "\n",
    "import MySQLdb\n",
    "import config  # username and password defined here\n",
    "import time"
   ]
  },
  {
   "cell_type": "code",
   "execution_count": 4,
   "metadata": {
    "collapsed": false,
    "deletable": true,
    "editable": true
   },
   "outputs": [],
   "source": [
    "# SHOW VARIABLES LIKE 'datadir'; will get the path to the db of interest\n",
    "# SELECT DATABASE(); will show database name\n",
    "conn = MySQLdb.connect(\"localhost\", config.USERNAME, config.PASSWORD, \"tutorial\")   # host, uname, pw, dbname"
   ]
  },
  {
   "cell_type": "code",
   "execution_count": 5,
   "metadata": {
    "collapsed": true,
    "deletable": true,
    "editable": true
   },
   "outputs": [],
   "source": [
    "C = conn.cursor()"
   ]
  },
  {
   "cell_type": "code",
   "execution_count": 6,
   "metadata": {
    "collapsed": false,
    "deletable": true,
    "editable": true
   },
   "outputs": [
    {
     "name": "stdout",
     "output_type": "stream",
     "text": [
      "(138541700L, 'Sentdex', 'thanks @Billgates for the job offer')\n",
      "(138541700L, 'sentdex', 'wow, thanks @Obama. You are right these tutorials rock')\n",
      "(138541699L, 'sentdex', 'welcome to my tutorial')\n",
      "(12348L, 'sentdex', 'wow, thanks @Obama. You are right these tutorials rock')\n",
      "(1500838765L, 'python', 'man this is so cool')\n",
      "(1500838805L, 'python', 'man this is so cool')\n"
     ]
    }
   ],
   "source": [
    "C.execute(\"SELECT * FROM taula\")\n",
    "rows = C.fetchall()\n",
    "for row in rows:\n",
    "    print row"
   ]
  },
  {
   "cell_type": "code",
   "execution_count": 29,
   "metadata": {
    "collapsed": false,
    "deletable": true,
    "editable": true
   },
   "outputs": [],
   "source": [
    "# now insert some artificial data into the DB\n",
    "username = \"python\"\n",
    "tweet = \"man this is so cool\"\n",
    "\n",
    "C.execute(\"INSERT INTO taula (time, username, tweet) VALUES (%s, %s, %s)\", (time.time(), username, tweet))\n",
    "conn.commit()  # why precisely is this necessary?"
   ]
  },
  {
   "cell_type": "code",
   "execution_count": 30,
   "metadata": {
    "collapsed": false,
    "deletable": true,
    "editable": true
   },
   "outputs": [
    {
     "name": "stdout",
     "output_type": "stream",
     "text": [
      "(138541700L, 'Sentdex', 'thanks @Billgates for the job offer')\n",
      "(138541700L, 'sentdex', 'wow, thanks @Obama. You are right these tutorials rock')\n",
      "(138541699L, 'sentdex', 'welcome to my tutorial')\n",
      "(12348L, 'sentdex', 'wow, thanks @Obama. You are right these tutorials rock')\n",
      "(1500838765L, 'python', 'man this is so cool')\n",
      "(1500838805L, 'python', 'man this is so cool')\n"
     ]
    }
   ],
   "source": [
    "# check the result!\n",
    "C.execute(\"SELECT * FROM taula\")\n",
    "rows = C.fetchall()\n",
    "for row in rows:\n",
    "    print row"
   ]
  },
  {
   "cell_type": "code",
   "execution_count": 39,
   "metadata": {
    "collapsed": true,
    "deletable": true,
    "editable": true
   },
   "outputs": [],
   "source": [
    "C.close()      # close connection when finished"
   ]
  },
  {
   "cell_type": "code",
   "execution_count": 40,
   "metadata": {
    "collapsed": false,
    "deletable": true,
    "editable": true
   },
   "outputs": [],
   "source": [
    "C.connection   # doesn't return anything when the connection is closed (REALLY?!)"
   ]
  },
  {
   "cell_type": "code",
   "execution_count": 3,
   "metadata": {
    "collapsed": false,
    "deletable": true,
    "editable": true
   },
   "outputs": [
    {
     "ename": "NameError",
     "evalue": "name 'username' is not defined",
     "output_type": "error",
     "traceback": [
      "\u001b[0;31m---------------------------------------------------------------------------\u001b[0m",
      "\u001b[0;31mNameError\u001b[0m                                 Traceback (most recent call last)",
      "\u001b[0;32m<ipython-input-3-9e3bbc4b47a4>\u001b[0m in \u001b[0;36m<module>\u001b[0;34m()\u001b[0m\n\u001b[0;32m----> 1\u001b[0;31m \u001b[0;34m\"INSERT INTO taula (time, username, tweet) VALUES (%s, %s, %s)\"\u001b[0m\u001b[0;34m,\u001b[0m \u001b[0;34m(\u001b[0m\u001b[0mtime\u001b[0m\u001b[0;34m.\u001b[0m\u001b[0mtime\u001b[0m\u001b[0;34m(\u001b[0m\u001b[0;34m)\u001b[0m\u001b[0;34m,\u001b[0m \u001b[0musername\u001b[0m\u001b[0;34m,\u001b[0m \u001b[0mtweet\u001b[0m\u001b[0;34m)\u001b[0m\u001b[0;34m\u001b[0m\u001b[0m\n\u001b[0m",
      "\u001b[0;31mNameError\u001b[0m: name 'username' is not defined"
     ]
    }
   ],
   "source": [
    "\"INSERT INTO taula (time, username, tweet) VALUES (%s, %s, %s)\", (time.time(), username, tweet)"
   ]
  },
  {
   "cell_type": "code",
   "execution_count": 7,
   "metadata": {
    "collapsed": true
   },
   "outputs": [],
   "source": [
    "username = \"python\"\n",
    "tweet = \"man this is so cool\""
   ]
  },
  {
   "cell_type": "code",
   "execution_count": 8,
   "metadata": {
    "collapsed": true
   },
   "outputs": [],
   "source": [
    "username = \"python\"\n",
    "tweet = \"man this is so cool\""
   ]
  },
  {
   "cell_type": "code",
   "execution_count": 10,
   "metadata": {
    "collapsed": false
   },
   "outputs": [
    {
     "data": {
      "text/plain": [
       "'INSERT INTO taula (time, username, tweet) VALUES (1501203251.58, python, man this is so cool)'"
      ]
     },
     "execution_count": 10,
     "metadata": {},
     "output_type": "execute_result"
    }
   ],
   "source": [
    "\"INSERT INTO taula (time, username, tweet) VALUES (%s, %s, %s)\" % (time.time(), username, tweet)"
   ]
  },
  {
   "cell_type": "code",
   "execution_count": null,
   "metadata": {
    "collapsed": true
   },
   "outputs": [],
   "source": []
  }
 ],
 "metadata": {
  "kernelspec": {
   "display_name": "Python 2",
   "language": "python",
   "name": "python2"
  },
  "language_info": {
   "codemirror_mode": {
    "name": "ipython",
    "version": 2
   },
   "file_extension": ".py",
   "mimetype": "text/x-python",
   "name": "python",
   "nbconvert_exporter": "python",
   "pygments_lexer": "ipython2",
   "version": "2.7.12"
  }
 },
 "nbformat": 4,
 "nbformat_minor": 2
}
