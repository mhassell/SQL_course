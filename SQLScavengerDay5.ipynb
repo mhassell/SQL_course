{
 "cells": [
  {
   "cell_type": "code",
   "execution_count": 1,
   "metadata": {
    "collapsed": true,
    "deletable": true,
    "editable": true
   },
   "outputs": [],
   "source": [
    "# Last day! \n",
    "# https://www.kaggle.com/mhassell/sql-scavenger-hunt-day-5/\n",
    "\n",
    "query1 = \"\"\"\n",
    "            SELECT COUNT(sc.commit) AS number_of_commits,\n",
    "                sc.repo_name AS repository\n",
    "            FROM `bigquery-public-data.github_repos.sample_files` AS sf\n",
    "            INNER JOIN `bigquery-public-data.github_repos.sample_commits` AS sc\n",
    "            ON sf.repo_name = sc.repo_name\n",
    "            WHERE sf.path LIKE '%.py'     \n",
    "            GROUP BY repository\n",
    "            ORDER BY number_of_commits DESC\n",
    "        \"\"\""
   ]
  },
  {
   "cell_type": "code",
   "execution_count": null,
   "metadata": {
    "collapsed": true,
    "deletable": true,
    "editable": true
   },
   "outputs": [],
   "source": []
  }
 ],
 "metadata": {
  "kernelspec": {
   "display_name": "Python 2",
   "language": "python",
   "name": "python2"
  },
  "language_info": {
   "codemirror_mode": {
    "name": "ipython",
    "version": 2
   },
   "file_extension": ".py",
   "mimetype": "text/x-python",
   "name": "python",
   "nbconvert_exporter": "python",
   "pygments_lexer": "ipython2",
   "version": "2.7.12"
  }
 },
 "nbformat": 4,
 "nbformat_minor": 2
}
