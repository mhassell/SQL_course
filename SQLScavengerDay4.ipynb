{
 "cells": [
  {
   "cell_type": "code",
   "execution_count": 1,
   "metadata": {
    "collapsed": true
   },
   "outputs": [],
   "source": [
    "# https://www.kaggle.com/mhassell/sql-scavenger-hunt-day-4/"
   ]
  },
  {
   "cell_type": "code",
   "execution_count": null,
   "metadata": {
    "collapsed": true
   },
   "outputs": [],
   "source": [
    "query1 = \"\"\"\n",
    "           WITH time AS \n",
    "            (\n",
    "                SELECT TIMESTAMP_MILLIS(timestamp) AS trans_time,\n",
    "                    transaction_id\n",
    "                FROM `bigquery-public-data.bitcoin_blockchain.transactions`\n",
    "            )\n",
    "           SELECT COUNT(transaction_id) AS transactions,\n",
    "               EXTRACT(DAYOFYEAR FROM trans_time) AS day\n",
    "           FROM time\n",
    "           GROUP BY day\n",
    "           ORDER BY day ASC\n",
    "         \"\"\"\n",
    "transactions_by_day = bitcoin_blockchain.query_to_pandas_safe(query1, max_gb_scanned=21)\n",
    "\n",
    "# plot monthly bitcoin transactions\n",
    "plt.plot(transactions_by_day.transactions)\n",
    "plt.title(\"Daily Bitcoin Transcations\")"
   ]
  },
  {
   "cell_type": "code",
   "execution_count": null,
   "metadata": {
    "collapsed": true
   },
   "outputs": [],
   "source": [
    "query2 = \"\"\"\n",
    "            SELECT merkle_root AS root, COUNT(transaction_id) AS transactions\n",
    "            FROM `bigquery-public-data.bitcoin_blockchain.transactions`\n",
    "            GROUP BY root\n",
    "            ORDER BY transactions ASC\n",
    "         \"\"\"\n",
    "\n",
    "transactions_by_root = bitcoin_blockchain.query_to_pandas_safe(query2, max_gb_scanned=37)\n",
    "\n",
    "# plot monthly bitcoin transactions\n",
    "plt.plot(transactions_by_root.transactions)\n",
    "plt.title(\"Bitcoin Transactions by Merkle Root\")"
   ]
  }
 ],
 "metadata": {
  "kernelspec": {
   "display_name": "Python 2",
   "language": "python",
   "name": "python2"
  },
  "language_info": {
   "codemirror_mode": {
    "name": "ipython",
    "version": 2
   },
   "file_extension": ".py",
   "mimetype": "text/x-python",
   "name": "python",
   "nbconvert_exporter": "python",
   "pygments_lexer": "ipython2",
   "version": "2.7.12"
  }
 },
 "nbformat": 4,
 "nbformat_minor": 2
}
