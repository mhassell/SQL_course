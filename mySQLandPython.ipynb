{
 "cells": [
  {
   "cell_type": "code",
   "execution_count": 25,
   "metadata": {
    "collapsed": false
   },
   "outputs": [],
   "source": [
    "# https://www.youtube.com/watch?v=i6PVshqAUGw\n",
    "# sentdex is my hero\n",
    "\n",
    "import MySQLdb\n",
    "import config  # username and password defined here\n",
    "import time"
   ]
  },
  {
   "cell_type": "code",
   "execution_count": 21,
   "metadata": {
    "collapsed": false
   },
   "outputs": [],
   "source": [
    "# SHOW VARIABLES LIKE 'datadir'; will get the path to the db of interest\n",
    "# SELECT DATABASE(); will show database name\n",
    "conn = MySQLdb.connect(\"localhost\", config.USERNAME, config.PASSWORD, \"tutorial\")   # host, uname, pw, dbname"
   ]
  },
  {
   "cell_type": "code",
   "execution_count": 22,
   "metadata": {
    "collapsed": true
   },
   "outputs": [],
   "source": [
    "C = conn.cursor()"
   ]
  },
  {
   "cell_type": "code",
   "execution_count": 18,
   "metadata": {
    "collapsed": false
   },
   "outputs": [
    {
     "name": "stdout",
     "output_type": "stream",
     "text": [
      "(138541700L, 'Sentdex', 'thanks @Billgates for the job offer')\n",
      "(138541700L, 'sentdex', 'wow, thanks @Obama. You are right these tutorials rock')\n",
      "(138541699L, 'sentdex', 'welcome to my tutorial')\n",
      "(12348L, 'sentdex', 'wow, thanks @Obama. You are right these tutorials rock')\n"
     ]
    }
   ],
   "source": [
    "C.execute(\"SELECT * FROM taula\")\n",
    "rows = C.fetchall()\n",
    "for row in rows:\n",
    "    print row"
   ]
  },
  {
   "cell_type": "code",
   "execution_count": 29,
   "metadata": {
    "collapsed": false
   },
   "outputs": [],
   "source": [
    "# now insert some artificial data into the DB\n",
    "username = \"python\"\n",
    "tweet = \"man this is so cool\"\n",
    "\n",
    "C.execute(\"INSERT INTO taula (time, username, tweet) VALUES (%s, %s, %s)\", (time.time(), username, tweet))\n",
    "conn.commit()  # why precisely is this necessary?"
   ]
  },
  {
   "cell_type": "code",
   "execution_count": 30,
   "metadata": {
    "collapsed": false
   },
   "outputs": [
    {
     "name": "stdout",
     "output_type": "stream",
     "text": [
      "(138541700L, 'Sentdex', 'thanks @Billgates for the job offer')\n",
      "(138541700L, 'sentdex', 'wow, thanks @Obama. You are right these tutorials rock')\n",
      "(138541699L, 'sentdex', 'welcome to my tutorial')\n",
      "(12348L, 'sentdex', 'wow, thanks @Obama. You are right these tutorials rock')\n",
      "(1500838765L, 'python', 'man this is so cool')\n",
      "(1500838805L, 'python', 'man this is so cool')\n"
     ]
    }
   ],
   "source": [
    "# check the result!\n",
    "C.execute(\"SELECT * FROM taula\")\n",
    "rows = C.fetchall()\n",
    "for row in rows:\n",
    "    print row"
   ]
  },
  {
   "cell_type": "code",
   "execution_count": null,
   "metadata": {
    "collapsed": true
   },
   "outputs": [],
   "source": []
  }
 ],
 "metadata": {
  "kernelspec": {
   "display_name": "Python 2",
   "language": "python",
   "name": "python2"
  },
  "language_info": {
   "codemirror_mode": {
    "name": "ipython",
    "version": 2
   },
   "file_extension": ".py",
   "mimetype": "text/x-python",
   "name": "python",
   "nbconvert_exporter": "python",
   "pygments_lexer": "ipython2",
   "version": "2.7.12"
  }
 },
 "nbformat": 4,
 "nbformat_minor": 2
}
