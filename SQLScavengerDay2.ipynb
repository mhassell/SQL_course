{
 "cells": [
  {
   "cell_type": "markdown",
   "metadata": {},
   "source": [
    "Day 2 of the scavenger hunt!  Won't run locally, but my kernel is public on Kaggle:\n",
    "https://www.kaggle.com/mhassell/sql-scavenger-hunt-day-2/"
   ]
  },
  {
   "cell_type": "code",
   "execution_count": null,
   "metadata": {
    "collapsed": true
   },
   "outputs": [],
   "source": [
    "import bq_helper"
   ]
  },
  {
   "cell_type": "code",
   "execution_count": null,
   "metadata": {
    "collapsed": true
   },
   "outputs": [],
   "source": [
    "hacker_news = bq_helper.BigQueryHelper(active_project=\"bigquery-public-data\",\n",
    "                                   dataset_name=\"hacker_news\")\n",
    "\n",
    "query1 = \"\"\" \n",
    "         SELECT type, COUNT(id)\n",
    "         FROM `bigquery-public-data.hacker_news.full`\n",
    "         GROUP BY type\n",
    "         \"\"\"\n",
    "type_count = hacker_news.query_to_pandas_safe(query1)\n",
    "type_count.head()"
   ]
  },
  {
   "cell_type": "code",
   "execution_count": null,
   "metadata": {
    "collapsed": true
   },
   "outputs": [],
   "source": [
    "query2 = \"\"\" \n",
    "         SELECT COUNT(*)\n",
    "         FROM `bigquery-public-data.hacker_news.comments`\n",
    "         WHERE deleted = True\n",
    "         \"\"\"\n",
    "deleted_count = hacker_news.query_to_pandas_safe(query2)\n",
    "deleted_count.head()"
   ]
  }
 ],
 "metadata": {
  "kernelspec": {
   "display_name": "Python 2",
   "language": "python",
   "name": "python2"
  },
  "language_info": {
   "codemirror_mode": {
    "name": "ipython",
    "version": 2
   },
   "file_extension": ".py",
   "mimetype": "text/x-python",
   "name": "python",
   "nbconvert_exporter": "python",
   "pygments_lexer": "ipython2",
   "version": "2.7.12"
  }
 },
 "nbformat": 4,
 "nbformat_minor": 2
}
